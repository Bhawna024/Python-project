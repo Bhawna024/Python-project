{
 "cells": [
  {
   "cell_type": "code",
   "execution_count": 1,
   "metadata": {},
   "outputs": [],
   "source": [
    "from IPython.display import clear_output\n",
    "\n",
    "def display_board(board):\n",
    "    clear_output()\n",
    "    \n",
    "    print('   |   |   ')\n",
    "    print(f' {board[1]} | {board[2]} | {board[3]} ')\n",
    "    print('   |   |   ')\n",
    "    print('-----------')\n",
    "    print('   |   |   ')\n",
    "    print(f' {board[4]} | {board[5]} | {board[6]} ')\n",
    "    print('   |   |   ')\n",
    "    print('-----------')\n",
    "    print('   |   |   ')\n",
    "    print(f' {board[7]} | {board[8]} | {board[9]} ')\n",
    "    print('   |   |   ')"
   ]
  },
  {
   "cell_type": "code",
   "execution_count": 2,
   "metadata": {},
   "outputs": [],
   "source": [
    "import random\n",
    "    \n",
    "def choose_first():\n",
    "    player = random.randint(0,1)\n",
    "    if player == 0:\n",
    "        return \"Player 1\"\n",
    "    else:\n",
    "        return \"Player 2\""
   ]
  },
  {
   "cell_type": "code",
   "execution_count": 3,
   "metadata": {},
   "outputs": [],
   "source": [
    "def player_choice(player):\n",
    "    marker = \"\"\n",
    "    \n",
    "    while not marker == \"X\" or marker == \"O\":\n",
    "        marker = input(f'{player}! choose your marker(\"X\" or \"O\")').upper()\n",
    "    \n",
    "    if marker == 'X':\n",
    "        return ('X','O')\n",
    "    else:\n",
    "        return ('O','X')"
   ]
  },
  {
   "cell_type": "code",
   "execution_count": 4,
   "metadata": {},
   "outputs": [],
   "source": [
    "def space_available(position):\n",
    "   \n",
    "    return board[position] == ' '"
   ]
  },
  {
   "cell_type": "code",
   "execution_count": 5,
   "metadata": {},
   "outputs": [],
   "source": [
    "def position_choice(player):\n",
    "    position = 0\n",
    "    \n",
    "    while position not in range(1,10) or not space_available(position):\n",
    "        position = int(input(f'Which position do you prefer {player}?(1-9)'))\n",
    "                             \n",
    "    return position"
   ]
  },
  {
   "cell_type": "code",
   "execution_count": 6,
   "metadata": {},
   "outputs": [],
   "source": [
    "def implement(marker,position,board):\n",
    "    board[position] = marker"
   ]
  },
  {
   "cell_type": "code",
   "execution_count": 7,
   "metadata": {},
   "outputs": [],
   "source": [
    "def win(mark):\n",
    "    if (board[1]==board[2]==board[3]==mark) or \\\n",
    "    (board[4]==board[5]==board[6]==mark) or \\\n",
    "    (board[7]==board[8]==board[9]==mark) or \\\n",
    "    (board[1]==board[4]==board[7]==mark) or \\\n",
    "    (board[2]==board[5]==board[8]==mark) or \\\n",
    "    (board[3]==board[6]==board[9]==mark) or \\\n",
    "    (board[1]==board[5]==board[9]==mark) or \\\n",
    "    (board[7]==board[5]==board[3]==mark):\n",
    "        return True\n",
    "    else:\n",
    "        return False\n",
    "    "
   ]
  },
  {
   "cell_type": "code",
   "execution_count": 8,
   "metadata": {},
   "outputs": [],
   "source": [
    "def full_board(board):\n",
    "    for position in range(1,10):\n",
    "        if board[position] == \" \":\n",
    "            return False\n",
    "    return True"
   ]
  },
  {
   "cell_type": "code",
   "execution_count": 9,
   "metadata": {},
   "outputs": [],
   "source": [
    "def replay():\n",
    "    decision = input('Do you want to play again?yes or no').lower()\n",
    "    if decision == 'yes':\n",
    "        return True\n",
    "    else:\n",
    "        return False"
   ]
  },
  {
   "cell_type": "code",
   "execution_count": 10,
   "metadata": {},
   "outputs": [
    {
     "name": "stdout",
     "output_type": "stream",
     "text": [
      "   |   |   \n",
      " O | X | O \n",
      "   |   |   \n",
      "-----------\n",
      "   |   |   \n",
      " X | O | O \n",
      "   |   |   \n",
      "-----------\n",
      "   |   |   \n",
      " X | O | X \n",
      "   |   |   \n",
      "Game is draw!\n",
      "Do you want to play again?yes or nono\n"
     ]
    }
   ],
   "source": [
    "print(\"Welcome to Tic Tac Toe!\")\n",
    "\n",
    "while True:\n",
    "    board = [\" \"]*10\n",
    "    player = choose_first()\n",
    "    print(f'{player} will go first!')\n",
    "    player1_marker,player2_marker = player_choice(player)\n",
    "    \n",
    "    play = input('Do uou want to start the game?(Yes or No) ').lower()\n",
    "    \n",
    "    if play == 'yes':\n",
    "        game_on = True\n",
    "    else:\n",
    "        game_on = False\n",
    "          \n",
    "    while game_on:\n",
    "        if player == \"Player 1\":\n",
    "            display_board(board)\n",
    "            position = position_choice(player)\n",
    "            implement(player1_marker,position,board)\n",
    "              \n",
    "            if win(player1_marker):\n",
    "                display_board(board)\n",
    "                print(\"Congratulations Player 1! You won!\")\n",
    "                break\n",
    "            else:\n",
    "                if full_board(board):\n",
    "                    display_board(board)\n",
    "                    print(\"Game is draw!\")\n",
    "                    break\n",
    "                else:\n",
    "                    player = \"Player 2\"\n",
    "\n",
    "        else:\n",
    "            display_board(board)\n",
    "            position = position_choice(player)\n",
    "            implement(player2_marker,position,board)\n",
    "              \n",
    "            if win(player2_marker):\n",
    "                display_board(board)\n",
    "                print(\"Congratulations Player 2! You won!\")\n",
    "                break\n",
    "            else:\n",
    "                if full_board(board):\n",
    "                    display_board(board)\n",
    "                    print(\"Game is draw!\")\n",
    "                    break\n",
    "                else:\n",
    "                    player = \"Player 1\"\n",
    "    if not replay():\n",
    "          break\n",
    "        \n",
    "          "
   ]
  },
  {
   "cell_type": "code",
   "execution_count": null,
   "metadata": {},
   "outputs": [],
   "source": []
  }
 ],
 "metadata": {
  "kernelspec": {
   "display_name": "Python 3",
   "language": "python",
   "name": "python3"
  },
  "language_info": {
   "codemirror_mode": {
    "name": "ipython",
    "version": 3
   },
   "file_extension": ".py",
   "mimetype": "text/x-python",
   "name": "python",
   "nbconvert_exporter": "python",
   "pygments_lexer": "ipython3",
   "version": "3.7.4"
  }
 },
 "nbformat": 4,
 "nbformat_minor": 2
}
